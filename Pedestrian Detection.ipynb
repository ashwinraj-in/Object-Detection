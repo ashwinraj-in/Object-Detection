{
  "nbformat": 4,
  "nbformat_minor": 0,
  "metadata": {
    "colab": {
      "name": "Untitled21.ipynb",
      "provenance": [],
      "authorship_tag": "ABX9TyNPwI+evhhudwVEKNCqw455"
    },
    "kernelspec": {
      "name": "python3",
      "display_name": "Python 3"
    }
  },
  "cells": [
    {
      "cell_type": "code",
      "metadata": {
        "id": "5UzeOh3RYfGF",
        "colab_type": "code",
        "colab": {}
      },
      "source": [
        "import cv2\n",
        "import numpy as np"
      ],
      "execution_count": 1,
      "outputs": []
    },
    {
      "cell_type": "code",
      "metadata": {
        "id": "_wmbtMkdY0BG",
        "colab_type": "code",
        "colab": {}
      },
      "source": [
        "body_classifier=cv2.CascadeClassifier(cv2.data.haarcascades + 'haarcascade_fullbody.xml')\n"
      ],
      "execution_count": 2,
      "outputs": []
    },
    {
      "cell_type": "code",
      "metadata": {
        "id": "mqnPy7BeZgtC",
        "colab_type": "code",
        "colab": {}
      },
      "source": [
        "cap=cv2.VideoCapture('walking.mp4')"
      ],
      "execution_count": 3,
      "outputs": []
    },
    {
      "cell_type": "code",
      "metadata": {
        "id": "mY2eafI0es5f",
        "colab_type": "code",
        "colab": {}
      },
      "source": [
        "while cap.isOpened():\n",
        "  \n",
        "    ret,frame=cap.read()\n",
        "    bodies=body_classifier.detectMultiScale(frame,1.2,3)\n",
        "\n",
        "    if ret ==True:\n",
        "        for (x,y,w,h) in bodies:\n",
        "            cv2.rectangle(frame,\n",
        "                         (x,y),\n",
        "                         (x+w,y+h),\n",
        "                         (255,255,255),\n",
        "                         5)\n",
        "            cv2.imshow('Pedestrians',frame)\n",
        "\n",
        "    else :\n",
        "        break\n",
        "\n",
        "cap.release()\n",
        "cv2.destroyAllWindows()"
      ],
      "execution_count": 8,
      "outputs": []
    }
  ]
}